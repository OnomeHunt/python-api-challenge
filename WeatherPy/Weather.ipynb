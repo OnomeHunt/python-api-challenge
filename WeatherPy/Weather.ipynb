{
 "cells": [
  {
   "cell_type": "markdown",
   "metadata": {},
   "source": [
    "# Weather API Observations\n",
    "1. Temperature decreases with increase in latitude in the northern hemisphere\n",
    "2. Temperature increases as you move away from the equator in the Northern hemisphere\n",
    "3. Temperature increases as you get closer to the equator in the Southern hemisphere"
   ]
  },
  {
   "cell_type": "code",
   "execution_count": null,
   "metadata": {},
   "outputs": [],
   "source": [
    "#Import all necessary Libraries\n",
    "import pandas as pd\n",
    "import requests\n",
    "import json\n",
    "import seaborn as sns\n",
    "import matplotlib.pyplot as plt\n",
    "%matplotlib inline\n",
    "from citipy import citipy\n",
    "import numpy as np\n",
    "import pandas as pd\n",
    "# Weather API Key\n",
    "from config import weather_api\n",
    "import scipy.stats as st\n",
    "\n",
    "# Output File (CSV)\n",
    "output_data_file = \"cities.csv\""
   ]
  },
  {
   "cell_type": "code",
   "execution_count": null,
   "metadata": {},
   "outputs": [],
   "source": [
    "#Randomly select at least 500 unique (non-repeat) cities based on latitude and longitude.\n",
    "#WeatherPy\n",
    "# In this example, you'll be creating a Python script to visualize the weather of 500+ cities across the world of varying distance from the equator. To accomplish this, you'll be utilizing a simple Python library, the OpenWeatherMap API,\n",
    "# and a little common sense to create a representative model of weather across world cities.\n",
    "\n",
    "#Step 1: Get range of longitude and latitude.\n",
    "#Latitudes range from -90 to 90, and longitudes range from -180 to 180\n",
    "#generate random list for latitudes and longitudes \n",
    "\n",
    "latitude = []\n",
    "longitude = []\n",
    "\n",
    "for each_lat in np.random.randint(-90,90,1500):\n",
    "    latitude.append(each_lat)\n",
    "\n",
    "for each_lon in np.random.randint(-180,180,1500):\n",
    "    longitude.append(each_lon)\n",
    "\n",
    "    \n",
    "#Create and variable called latitude_and_Longitude and store all random latitudes and longitudes generated\n",
    "\n",
    "latitude_and_Longitude = tuple(zip(latitude,longitude))"
   ]
  },
  {
   "cell_type": "code",
   "execution_count": null,
   "metadata": {},
   "outputs": [],
   "source": [
    "\n",
    "cities = []\n",
    "country = []\n",
    "\n",
    "for lat,lon in latitude_and_Longitude:\n",
    "    city = citipy.nearest_city(lat,lon)\n",
    "  \n",
    "\n",
    "    # Replace spaces with %20 to create url correctly \n",
    "    #city = city.replace(\" \", \"%20\")\n",
    "    cityName = city.city_name\n",
    "    # If the city is unique, then add it to a our cities list\n",
    "    if city not in cities:\n",
    "\n",
    "        cities.append(cityName)\n",
    "        \n",
    "        country.append(city.country_code)\n",
    "\n",
    "# Print the city count to confirm sufficient count\n",
    "len(cities)\n",
    "    \n",
    "print('The script generated {} cities using random numbers.'.format(len(set(cities))))"
   ]
  },
  {
   "cell_type": "code",
   "execution_count": null,
   "metadata": {},
   "outputs": [],
   "source": [
    "#create a dataframe to store all the cities and countries generated with citipy\n",
    "\n",
    "df_countries = pd.DataFrame({'Cities': cities,\n",
    "              'Country': country})\n",
    "\n",
    "#add additional blank columns to store information from openweathermap api\n",
    "\n",
    "df_countries['Latitude'] = ''\n",
    "df_countries['Longitude'] = ''\n",
    "df_countries['Temperature (F)'] = ''\n",
    "df_countries['Humidity (%)'] = ''\n",
    "df_countries['Cloudiness (%)'] = ''\n",
    "df_countries['Wind Speed (mph)'] = ''"
   ]
  },
  {
   "cell_type": "code",
   "execution_count": null,
   "metadata": {},
   "outputs": [],
   "source": [
    "#drop all duplicates in column Cities.\n",
    "\n",
    "df_countries = df_countries.drop_duplicates(subset=['Cities'],keep='first')"
   ]
  },
  {
   "cell_type": "code",
   "execution_count": null,
   "metadata": {},
   "outputs": [],
   "source": [
    "#loop through all rows and fill in values for blank columns in dataframe\n",
    "\n",
    "for index,row in df_countries.iterrows():\n",
    "    city_name = row['Cities']\n",
    "    Country_id = row['Country']\n",
    "    \n",
    "    \n",
    "    #api call for all Cities \n",
    "    api_url = \"http://api.openweathermap.org/data/2.5/forecast\" \\\n",
    "    \"?q={},{}&units=IMPERIAL&mode=json&APPID={}\".format(city_name,Country_id,weather_api)\n",
    "    \n",
    "    \n",
    "    country_info = requests.get(api_url).json()\n",
    "    \n",
    "    #print all api url's for each city\n",
    "    print(api_url)\n",
    "    \n",
    "    \n",
    "    try:\n",
    "        df_countries.set_value(index,'Latitude',country_info['city']['coord']['lat'])\n",
    "        df_countries.set_value(index,'Longitude',country_info['city']['coord']['lon'])\n",
    "        df_countries.set_value(index,'Temperature (F)',country_info['list'][0]['main']['temp'])\n",
    "        df_countries.set_value(index,'Humidity (%)',country_info['list'][0]['main']['humidity'])\n",
    "        df_countries.set_value(index,'Cloudiness (%)',country_info['list'][0]['clouds']['all'])\n",
    "        df_countries.set_value(index,'Wind Speed (mph)',country_info['list'][0]['wind']['speed'])\n",
    "        \n",
    "    except KeyError:\n",
    "        df_countries.set_value(index,'Latitude',np.nan)\n",
    "        df_countries.set_value(index,'Longitude',np.nan)\n",
    "        df_countries.set_value(index,'Temperature (F)',np.nan)\n",
    "        df_countries.set_value(index,'Humidity (%)',np.nan)\n",
    "        df_countries.set_value(index,'Cloudiness (%)',np.nan)\n",
    "        df_countries.set_value(index,'Wind Speed (mph)',np.nan)\n",
    "        \n",
    "        print('Missing weather information...skip')"
   ]
  },
  {
   "cell_type": "code",
   "execution_count": null,
   "metadata": {},
   "outputs": [],
   "source": [
    "#change all data recieved from openweathermap api to numerical data\n",
    "df_countries['Latitude'] = pd.to_numeric(df_countries['Latitude'])\n",
    "df_countries['Longitude'] = pd.to_numeric(df_countries['Longitude'])\n",
    "df_countries['Temperature (F)'] = pd.to_numeric(df_countries['Temperature (F)'])\n",
    "df_countries['Humidity (%)'] = pd.to_numeric(df_countries['Humidity (%)'])\n",
    "df_countries['Cloudiness (%)'] = pd.to_numeric(df_countries['Cloudiness (%)'])\n",
    "df_countries['Wind Speed (mph)'] = pd.to_numeric(df_countries['Wind Speed (mph)'])"
   ]
  },
  {
   "cell_type": "code",
   "execution_count": null,
   "metadata": {},
   "outputs": [],
   "source": [
    "#display dataframe df_countries after openweathermap api calls \n",
    "df_countries.head()"
   ]
  },
  {
   "cell_type": "code",
   "execution_count": null,
   "metadata": {},
   "outputs": [],
   "source": [
    "#display dataframe df_countries after openweathermap api calls \n",
    "#df_countries.head(100)\n",
    "print(df_countries)"
   ]
  },
  {
   "cell_type": "code",
   "execution_count": null,
   "metadata": {},
   "outputs": [],
   "source": [
    "#Convert Raw Data to DataFrame\n",
    "#Export the city data into a .csv.\n",
    "df_countries.to_csv(output_data_file,index=False)  \n",
    "#Display the DataFrame\n",
    "df_countries.head()"
   ]
  },
  {
   "cell_type": "code",
   "execution_count": null,
   "metadata": {},
   "outputs": [],
   "source": [
    "#Latitude vs. Temperature Plot\n",
    "plt.scatter(df_countries['Latitude'], df_countries['Temperature (F)'],color = 'y')\n",
    "\n",
    "plt.xlabel('Latitude')\n",
    "plt.ylabel('Temperature (F)')\n",
    "plt.title('Latitude vs. Temperature(f) (2020-01-24)')\n",
    "plt.savefig(\"CityLatitudeVsTemperature.png\")\n"
   ]
  },
  {
   "cell_type": "code",
   "execution_count": null,
   "metadata": {},
   "outputs": [],
   "source": [
    "#Latitude vs. Humidity Plot\n",
    "plt.scatter(df_countries['Latitude'], df_countries['Humidity (%)'])\n",
    "\n",
    "plt.xlabel('Latitude')\n",
    "plt.ylabel('Humidity (%)')\n",
    "plt.title('Latitude vs. Humidity (%) (2020-01-24)')\n",
    "plt.savefig(\"CityLatitudeVsHumidity.png\")\n",
    "\n"
   ]
  },
  {
   "cell_type": "code",
   "execution_count": null,
   "metadata": {},
   "outputs": [],
   "source": [
    "#Latitude vs. Cloudiness Plot\n",
    "\n",
    "plt.scatter(df_countries['Latitude'], df_countries['Cloudiness (%)'])\n",
    "\n",
    "plt.xlabel('Latitude')\n",
    "plt.ylabel('Cloudiness (%)')\n",
    "plt.title('Latitude vs. Cloudiness (%) (2020-01-24)')\n",
    "plt.savefig(\"CityLatitudeVsCloudiness.png\")\n",
    "\n"
   ]
  },
  {
   "cell_type": "code",
   "execution_count": null,
   "metadata": {},
   "outputs": [],
   "source": [
    "plt.scatter(df_countries['Latitude'], df_countries['Wind Speed (mph)'])\n",
    "\n",
    "plt.xlabel('Latitude')\n",
    "plt.ylabel('Wind Speed (mph)')\n",
    "plt.title('Latitude vs. Wind Speed (mph)(2020-01-24)')\n",
    "plt.savefig(\"CityLatitudeVsWindSpeed.png\")\n",
    "\n"
   ]
  },
  {
   "cell_type": "code",
   "execution_count": null,
   "metadata": {},
   "outputs": [],
   "source": [
    "# OPTIONAL: Create a function to create Linear Regression plots\n",
    "\n",
    "def linear_agression(x,y):\n",
    "    print(f\"The r-squared is : {round(st.pearsonr(x, y)[0],2)}\")\n",
    "    (slope, intercept, rvalue, pvalue, stderr) = st.linregress(x, y)\n",
    "    regress_values = x * slope + intercept\n",
    "    line_eq = \"y = \" + str(round(slope,2)) + \"x + \" + str(round(intercept,2))\n",
    "    plt.scatter(x, y)\n",
    "    plt.plot(x,regress_values,\"r-\")\n",
    "    return line_eq\n",
    "\n",
    "# Define a fuction for annotating\n",
    "def annotate(line_eq, a, b):\n",
    "    plt.annotate(line_eq,(a,b),fontsize=15,color=\"red\")"
   ]
  },
  {
   "cell_type": "code",
   "execution_count": null,
   "metadata": {},
   "outputs": [],
   "source": [
    "#Northern Hemisphere - Temp vs. Latitude Linear Regression\n",
    "#Your next objective is to run linear regression on each relationship, \n",
    "#only this time separating them into Northern Hemisphere \n",
    "#greater than or equal to 0 degrees latitude) and Southern Hemisphere (less than 0 degrees latitude):\n",
    "\n",
    "df_countries_North = df_countries[df_countries[\"Latitude\"] >= 0]\n",
    "df_countries_South = df_countries[df_countries[\"Latitude\"] < 0]"
   ]
  },
  {
   "cell_type": "code",
   "execution_count": null,
   "metadata": {},
   "outputs": [],
   "source": [
    "# Call an function #1\n",
    "equation = linear_agression(df_countries_North[\"Latitude\"], df_countries_North[\"Temperature (F)\"])\n",
    "\n",
    "# Call an function #2\n",
    "annotate(equation, 0, 0)\n",
    "\n",
    "# Set a title\n",
    "plt.title(\"Northern Hemisphere - Max Temp vs. Latitude Linear Regression\")\n",
    "\n",
    "# Set xlabel\n",
    "plt.xlabel(\"Latitude\")\n",
    "\n",
    "# Set ylabel\n",
    "plt.ylabel(\"Temp (F)\")\n",
    "\n",
    "# Save the figure\n",
    "plt.savefig(\"Northern Hemisphere - Temp vs. Latitude Linear Regression.png\")\n",
    "\n",
    "plt.xticks(size=12)\n",
    "plt.yticks(size=12)\n",
    "\n"
   ]
  },
  {
   "cell_type": "code",
   "execution_count": null,
   "metadata": {},
   "outputs": [],
   "source": [
    "#Southern Hemisphere - Max Temp vs. Latitude Linear Regression\n",
    "# Call an function #1\n",
    "equation = linear_agression(df_countries_South[\"Latitude\"],df_countries_South[\"Temperature (F)\"])\n",
    "\n",
    "# Call an function #2\n",
    "annotate(equation, -30, 10)\n",
    "\n",
    "# Set a title\n",
    "plt.title(\"Southern Hemisphere - Max Temp vs. Latitude Linear Regression\")\n",
    "\n",
    "# Set xlabel\n",
    "plt.xlabel(\"Latitude\")\n",
    "\n",
    "# Set ylabel\n",
    "plt.ylabel(\"Max Temp (F)\")\n",
    "\n",
    "# Save the figure\n",
    "plt.savefig(\"Southern Hemisphere - Max Temp vs. Latitude Linear Regression.png\")\n",
    "\n",
    "plt.xticks(size=12)\n",
    "plt.yticks(size=12)\n",
    "\n"
   ]
  },
  {
   "cell_type": "code",
   "execution_count": null,
   "metadata": {},
   "outputs": [],
   "source": [
    "# Call an function #1\n",
    "equation = linear_agression(df_countries_North[\"Latitude\"], df_countries_North[\"Humidity (%)\"])\n",
    "\n",
    "# Call an function #2\n",
    "annotate(equation, 40, 15)\n",
    "\n",
    "# Set a title\n",
    "plt.title(\"Northern Hemisphere - Humidity (%) vs. Latitude Linear Regression\")\n",
    "\n",
    "# Set xlabel\n",
    "plt.xlabel(\"Latitude\")\n",
    "\n",
    "# Set ylabel\n",
    "plt.ylabel(\"Humidity (%)\")\n",
    "\n",
    "# Save the figure\n",
    "plt.savefig(\"Northern Hemisphere - Humidity (%) vs. Latitude Linear Regression.png\")\n",
    "\n"
   ]
  },
  {
   "cell_type": "code",
   "execution_count": null,
   "metadata": {},
   "outputs": [],
   "source": [
    "#Southern Hemisphere - Humidity (%) vs. Latitude Linear Regression\n",
    "\n",
    "# Call an function #1\n",
    "equation = linear_agression(df_countries_South[\"Latitude\"], df_countries_South[\"Humidity (%)\"])\n",
    "\n",
    "# Call an function #2\n",
    "annotate(equation, -40, 50)\n",
    "\n",
    "# Set title\n",
    "plt.title(\"Southern Hemisphere - Humidity (%) vs. Latitude Linear Regression\")\n",
    "\n",
    "# Set xlabel\n",
    "plt.xlabel(\"Latitude\")\n",
    "\n",
    "# Set ylabel\n",
    "plt.ylabel(\"Humidity (%)\")\n",
    "\n",
    "# Save the figure\n",
    "plt.savefig(\"Southern Hemisphere - Humidity (%) vs. Latitude Linear Regression.png\")"
   ]
  },
  {
   "cell_type": "code",
   "execution_count": null,
   "metadata": {},
   "outputs": [],
   "source": [
    "\n",
    "equation = linear_agression(df_countries_North[\"Latitude\"], df_countries_North[\"Cloudiness (%)\"])\n",
    "\n",
    "# Call an function #2\n",
    "annotate(equation, 30, 40)\n",
    "\n",
    "# Set a title\n",
    "plt.title(\"Northern Hemisphere - Cloudiness (%) vs. Latitude Linear Regression\")\n",
    "\n",
    "# Set xlabel\n",
    "plt.xlabel(\"Latitude\")\n",
    "\n",
    "# Set ylabel\n",
    "plt.ylabel(\"Cloudiness (%)\")\n",
    "\n",
    "# Save the figure\n",
    "plt.savefig(\"Northern Hemisphere - Cloudiness (%) vs. Latitude Linear Regression.png\")"
   ]
  },
  {
   "cell_type": "code",
   "execution_count": null,
   "metadata": {},
   "outputs": [],
   "source": [
    "#Southern Hemisphere - Cloudiness (%) vs. Latitude Linear Regression\n",
    "\n",
    "\n",
    "# Call an function #1\n",
    "equation = linear_agression(df_countries_South[\"Latitude\"], df_countries_South[\"Cloudiness (%)\"])\n",
    "\n",
    "# Call an function #2\n",
    "annotate(equation, -30, 40)\n",
    "\n",
    "# Set a title\n",
    "plt.title(\"Southern Hemisphere - Cloudiness (%) vs. Latitude Linear Regression\")\n",
    "\n",
    "# Set xlabel\n",
    "plt.xlabel(\"Latitude\")\n",
    "\n",
    "# Set ylabel\n",
    "plt.ylabel(\"Cloudiness (%)\")\n",
    "\n",
    "# Save the figure\n",
    "plt.savefig(\"Southern Hemisphere - Cloudiness (%) vs. Latitude Linear Regression.png\")"
   ]
  },
  {
   "cell_type": "code",
   "execution_count": null,
   "metadata": {},
   "outputs": [],
   "source": [
    "# Call an function #1\n",
    "equation = linear_agression(df_countries_North[\"Latitude\"], df_countries_North[\"Wind Speed (mph)\"])\n",
    "\n",
    "# Call an function #2\n",
    "annotate(equation, 40, 20)\n",
    "\n",
    "# Set  title\n",
    "plt.title(\"Northern Hemisphere - Wind Speed (mph) vs. Latitude Linear Regression\")\n",
    "\n",
    "# Set xlabel\n",
    "plt.xlabel(\"Latitude\")\n",
    "\n",
    "# Set ylabel\n",
    "plt.ylabel(\"Wind Speed (mph)\")\n",
    "\n",
    "# Save the figure\n",
    "plt.savefig(\"Northern Hemisphere - Wind Speed vs. Latitude Linear Regression.png\")"
   ]
  },
  {
   "cell_type": "code",
   "execution_count": null,
   "metadata": {},
   "outputs": [],
   "source": [
    "# Call an function #1\n",
    "equation = linear_agression(df_countries_South[\"Latitude\"], df_countries_South[\"Wind Speed (mph)\"])\n",
    "\n",
    "# Call an function #2\n",
    "annotate(equation, -30, 5)\n",
    "\n",
    "# Set  title\n",
    "plt.title(\"Southern Hemisphere - Wind Speed (mph) vs. Latitude Linear Regression\")\n",
    "\n",
    "# Set xlabel\n",
    "plt.xlabel(\"Latitude\")\n",
    "\n",
    "# Set ylabel\n",
    "plt.ylabel(\"Wind Speed (mph)\")\n",
    "\n",
    "# Save the figure\n",
    "plt.savefig(\"Southern Hemisphere - Wind Speed vs. Latitude Linear Regression.png\")"
   ]
  },
  {
   "cell_type": "code",
   "execution_count": null,
   "metadata": {},
   "outputs": [],
   "source": []
  },
  {
   "cell_type": "code",
   "execution_count": null,
   "metadata": {},
   "outputs": [],
   "source": []
  },
  {
   "cell_type": "code",
   "execution_count": null,
   "metadata": {},
   "outputs": [],
   "source": []
  }
 ],
 "metadata": {
  "kernelspec": {
   "display_name": "Python 3",
   "language": "python",
   "name": "python3"
  },
  "language_info": {
   "codemirror_mode": {
    "name": "ipython",
    "version": 3
   },
   "file_extension": ".py",
   "mimetype": "text/x-python",
   "name": "python",
   "nbconvert_exporter": "python",
   "pygments_lexer": "ipython3",
   "version": "3.6.9"
  }
 },
 "nbformat": 4,
 "nbformat_minor": 2
}
